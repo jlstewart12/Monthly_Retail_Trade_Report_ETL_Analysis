{
 "cells": [
  {
   "cell_type": "code",
   "execution_count": null,
   "metadata": {},
   "outputs": [],
   "source": [
    "import pandas as pd\n",
    "import datetime\n",
    "import numpy as np\n",
    "import mysql.connector\n",
    "import json\n",
    "import csv"
   ]
  },
  {
   "cell_type": "code",
   "execution_count": null,
   "metadata": {},
   "outputs": [],
   "source": [
    "xlsx = pd.ExcelFile(\"mrtssales92-present.xlsx\")\n",
    "\n",
    "sheets_dict = pd.read_excel(xlsx)\n",
    "\n",
    "sales_df = pd.DataFrame()\n",
    "\n",
    "for sheet in reversed(xlsx.sheet_names):\n",
    "    categories = pd.read_excel(xlsx, sheet_name=sheet, header = 3, usecols =\"B\").iloc[2:67]\n",
    "    if sheet == '2022':\n",
    "        sales_figs = pd.read_excel(xlsx, sheet_name=sheet, header = 4, usecols =\"C:G\").iloc[1:66]\n",
    "    else:\n",
    "        sales_figs = pd.read_excel(xlsx, sheet_name=sheet, header = 4, usecols =\"C:N\").iloc[1:66]\n",
    "    reshaped_df = pd.concat([categories.reset_index(drop=True),sales_figs.reset_index(drop=True)], axis=1)\n",
    "    sales_df = pd.concat([sales_df,reshaped_df.reset_index(drop=True)], axis=1)"
   ]
  }
 ],
 "metadata": {
  "kernelspec": {
   "display_name": "Python 3.10.8 64-bit (microsoft store)",
   "language": "python",
   "name": "python3"
  },
  "language_info": {
   "name": "python",
   "version": "3.10.8"
  },
  "orig_nbformat": 4,
  "vscode": {
   "interpreter": {
    "hash": "fb2e8cc08d8b9900891f9b8b9ae94066cce66698834ae925573496a5e4f0dc44"
   }
  }
 },
 "nbformat": 4,
 "nbformat_minor": 2
}
